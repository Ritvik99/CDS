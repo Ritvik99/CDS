{
 "cells": [
  {
   "cell_type": "code",
   "execution_count": 1,
   "metadata": {},
   "outputs": [
    {
     "name": "stderr",
     "output_type": "stream",
     "text": [
      "Using TensorFlow backend.\n"
     ]
    }
   ],
   "source": [
    "import numpy as np\n",
    "from keras.models import Sequential\n",
    "from keras.layers import SimpleRNN, LSTM, Dense, Flatten\n",
    "import matplotlib.pyplot as plt"
   ]
  },
  {
   "cell_type": "code",
   "execution_count": 2,
   "metadata": {},
   "outputs": [],
   "source": [
    "def trainingDataExtractor(sequence, steps):\n",
    "    \n",
    "    x = []\n",
    "    y = []\n",
    "    \n",
    "    for i in range(len(sequence)):\n",
    "        if(i+steps) > len(sequence)-1:\n",
    "            break\n",
    "        \n",
    "        y.append(sequence[i+steps])\n",
    "        x.append(sequence[i:i+steps])\n",
    "        \n",
    "    return np.array(x), np.array(y)"
   ]
  },
  {
   "cell_type": "code",
   "execution_count": 3,
   "metadata": {},
   "outputs": [],
   "source": [
    "sequence = []\n",
    "length = 50\n",
    "\n",
    "for i in range(length):\n",
    "    sequence.append(i+1)"
   ]
  },
  {
   "cell_type": "code",
   "execution_count": 4,
   "metadata": {},
   "outputs": [
    {
     "data": {
      "text/plain": [
       "(array([[ 1,  2,  3],\n",
       "        [ 2,  3,  4],\n",
       "        [ 3,  4,  5],\n",
       "        [ 4,  5,  6],\n",
       "        [ 5,  6,  7],\n",
       "        [ 6,  7,  8],\n",
       "        [ 7,  8,  9],\n",
       "        [ 8,  9, 10],\n",
       "        [ 9, 10, 11],\n",
       "        [10, 11, 12],\n",
       "        [11, 12, 13],\n",
       "        [12, 13, 14],\n",
       "        [13, 14, 15],\n",
       "        [14, 15, 16],\n",
       "        [15, 16, 17],\n",
       "        [16, 17, 18],\n",
       "        [17, 18, 19],\n",
       "        [18, 19, 20],\n",
       "        [19, 20, 21],\n",
       "        [20, 21, 22],\n",
       "        [21, 22, 23],\n",
       "        [22, 23, 24],\n",
       "        [23, 24, 25],\n",
       "        [24, 25, 26],\n",
       "        [25, 26, 27],\n",
       "        [26, 27, 28],\n",
       "        [27, 28, 29],\n",
       "        [28, 29, 30],\n",
       "        [29, 30, 31],\n",
       "        [30, 31, 32],\n",
       "        [31, 32, 33],\n",
       "        [32, 33, 34],\n",
       "        [33, 34, 35],\n",
       "        [34, 35, 36],\n",
       "        [35, 36, 37],\n",
       "        [36, 37, 38],\n",
       "        [37, 38, 39],\n",
       "        [38, 39, 40],\n",
       "        [39, 40, 41],\n",
       "        [40, 41, 42],\n",
       "        [41, 42, 43],\n",
       "        [42, 43, 44],\n",
       "        [43, 44, 45],\n",
       "        [44, 45, 46],\n",
       "        [45, 46, 47],\n",
       "        [46, 47, 48],\n",
       "        [47, 48, 49]]),\n",
       " array([ 4,  5,  6,  7,  8,  9, 10, 11, 12, 13, 14, 15, 16, 17, 18, 19, 20,\n",
       "        21, 22, 23, 24, 25, 26, 27, 28, 29, 30, 31, 32, 33, 34, 35, 36, 37,\n",
       "        38, 39, 40, 41, 42, 43, 44, 45, 46, 47, 48, 49, 50]))"
      ]
     },
     "execution_count": 4,
     "metadata": {},
     "output_type": "execute_result"
    }
   ],
   "source": [
    "steps = 3\n",
    "\n",
    "trainX, trainY = trainingDataExtractor(sequence, steps)\n",
    "trainX, trainY"
   ]
  },
  {
   "cell_type": "code",
   "execution_count": 5,
   "metadata": {},
   "outputs": [],
   "source": [
    "trainX = trainX.reshape(trainX.shape[0], trainX.shape[1], 1)"
   ]
  },
  {
   "cell_type": "code",
   "execution_count": 6,
   "metadata": {},
   "outputs": [
    {
     "name": "stdout",
     "output_type": "stream",
     "text": [
      "Model: \"sequential_1\"\n",
      "_________________________________________________________________\n",
      "Layer (type)                 Output Shape              Param #   \n",
      "=================================================================\n",
      "lstm_1 (LSTM)                (None, 3, 100)            40800     \n",
      "_________________________________________________________________\n",
      "lstm_2 (LSTM)                (None, 100)               80400     \n",
      "_________________________________________________________________\n",
      "dense_1 (Dense)              (None, 1)                 101       \n",
      "=================================================================\n",
      "Total params: 121,301\n",
      "Trainable params: 121,301\n",
      "Non-trainable params: 0\n",
      "_________________________________________________________________\n"
     ]
    }
   ],
   "source": [
    "rnn = Sequential()\n",
    "rnn.add(LSTM(100, activation = 'relu', return_sequences = True, input_shape = (steps, 1)))\n",
    "rnn.add(LSTM(100, activation = 'relu'))\n",
    "rnn.add(Dense(1))\n",
    "\n",
    "rnn.summary()"
   ]
  },
  {
   "cell_type": "code",
   "execution_count": 7,
   "metadata": {},
   "outputs": [
    {
     "name": "stdout",
     "output_type": "stream",
     "text": [
      "Epoch 1/100\n",
      "47/47 [==============================] - 1s 14ms/step - loss: 901.9637\n",
      "Epoch 2/100\n",
      "47/47 [==============================] - 0s 255us/step - loss: 859.9112\n",
      "Epoch 3/100\n",
      "47/47 [==============================] - 0s 276us/step - loss: 804.6310\n",
      "Epoch 4/100\n",
      "47/47 [==============================] - 0s 233us/step - loss: 732.8270\n",
      "Epoch 5/100\n",
      "47/47 [==============================] - 0s 233us/step - loss: 645.1474\n",
      "Epoch 6/100\n",
      "47/47 [==============================] - 0s 233us/step - loss: 534.5196\n",
      "Epoch 7/100\n",
      "47/47 [==============================] - 0s 212us/step - loss: 384.2798\n",
      "Epoch 8/100\n",
      "47/47 [==============================] - 0s 212us/step - loss: 195.7794\n",
      "Epoch 9/100\n",
      "47/47 [==============================] - 0s 212us/step - loss: 49.1738\n",
      "Epoch 10/100\n",
      "47/47 [==============================] - 0s 191us/step - loss: 75.1603\n",
      "Epoch 11/100\n",
      "47/47 [==============================] - 0s 212us/step - loss: 127.8306\n",
      "Epoch 12/100\n",
      "47/47 [==============================] - 0s 276us/step - loss: 85.7267\n",
      "Epoch 13/100\n",
      "47/47 [==============================] - 0s 340us/step - loss: 30.0889\n",
      "Epoch 14/100\n",
      "47/47 [==============================] - 0s 297us/step - loss: 17.0628\n",
      "Epoch 15/100\n",
      "47/47 [==============================] - 0s 255us/step - loss: 26.8068\n",
      "Epoch 16/100\n",
      "47/47 [==============================] - 0s 255us/step - loss: 36.4013\n",
      "Epoch 17/100\n",
      "47/47 [==============================] - 0s 212us/step - loss: 36.5782\n",
      "Epoch 18/100\n",
      "47/47 [==============================] - 0s 212us/step - loss: 28.5934\n",
      "Epoch 19/100\n",
      "47/47 [==============================] - 0s 212us/step - loss: 18.0249\n",
      "Epoch 20/100\n",
      "47/47 [==============================] - 0s 191us/step - loss: 10.6111\n",
      "Epoch 21/100\n",
      "47/47 [==============================] - 0s 212us/step - loss: 9.8867\n",
      "Epoch 22/100\n",
      "47/47 [==============================] - 0s 191us/step - loss: 12.7591\n",
      "Epoch 23/100\n",
      "47/47 [==============================] - 0s 212us/step - loss: 13.6359\n",
      "Epoch 24/100\n",
      "47/47 [==============================] - 0s 212us/step - loss: 11.1349\n",
      "Epoch 25/100\n",
      "47/47 [==============================] - 0s 212us/step - loss: 7.2638\n",
      "Epoch 26/100\n",
      "47/47 [==============================] - 0s 191us/step - loss: 5.5327\n",
      "Epoch 27/100\n",
      "47/47 [==============================] - 0s 233us/step - loss: 5.5860\n",
      "Epoch 28/100\n",
      "47/47 [==============================] - 0s 212us/step - loss: 6.1892\n",
      "Epoch 29/100\n",
      "47/47 [==============================] - 0s 191us/step - loss: 6.0796\n",
      "Epoch 30/100\n",
      "47/47 [==============================] - 0s 212us/step - loss: 4.9532\n",
      "Epoch 31/100\n",
      "47/47 [==============================] - 0s 233us/step - loss: 4.0493\n",
      "Epoch 32/100\n",
      "47/47 [==============================] - 0s 191us/step - loss: 3.9040\n",
      "Epoch 33/100\n",
      "47/47 [==============================] - 0s 233us/step - loss: 4.4433\n",
      "Epoch 34/100\n",
      "47/47 [==============================] - 0s 233us/step - loss: 4.3133\n",
      "Epoch 35/100\n",
      "47/47 [==============================] - 0s 255us/step - loss: 3.7937\n",
      "Epoch 36/100\n",
      "47/47 [==============================] - 0s 191us/step - loss: 3.3998\n",
      "Epoch 37/100\n",
      "47/47 [==============================] - 0s 212us/step - loss: 3.2691\n",
      "Epoch 38/100\n",
      "47/47 [==============================] - ETA: 0s - loss: 3.175 - 0s 255us/step - loss: 3.2860\n",
      "Epoch 39/100\n",
      "47/47 [==============================] - 0s 212us/step - loss: 3.1420\n",
      "Epoch 40/100\n",
      "47/47 [==============================] - 0s 191us/step - loss: 2.9056\n",
      "Epoch 41/100\n",
      "47/47 [==============================] - 0s 212us/step - loss: 2.7430\n",
      "Epoch 42/100\n",
      "47/47 [==============================] - 0s 212us/step - loss: 2.7059\n",
      "Epoch 43/100\n",
      "47/47 [==============================] - 0s 191us/step - loss: 2.5654\n",
      "Epoch 44/100\n",
      "47/47 [==============================] - 0s 212us/step - loss: 2.3861\n",
      "Epoch 45/100\n",
      "47/47 [==============================] - 0s 191us/step - loss: 2.2658\n",
      "Epoch 46/100\n",
      "47/47 [==============================] - 0s 212us/step - loss: 2.1584\n",
      "Epoch 47/100\n",
      "47/47 [==============================] - 0s 212us/step - loss: 2.0476\n",
      "Epoch 48/100\n",
      "47/47 [==============================] - 0s 212us/step - loss: 1.9338\n",
      "Epoch 49/100\n",
      "47/47 [==============================] - 0s 233us/step - loss: 1.7900\n",
      "Epoch 50/100\n",
      "47/47 [==============================] - 0s 255us/step - loss: 1.6850\n",
      "Epoch 51/100\n",
      "47/47 [==============================] - 0s 233us/step - loss: 1.5743\n",
      "Epoch 52/100\n",
      "47/47 [==============================] - 0s 212us/step - loss: 1.4758\n",
      "Epoch 53/100\n",
      "47/47 [==============================] - 0s 255us/step - loss: 1.3752\n",
      "Epoch 54/100\n",
      "47/47 [==============================] - 0s 233us/step - loss: 1.2648\n",
      "Epoch 55/100\n",
      "47/47 [==============================] - 0s 191us/step - loss: 1.1555\n",
      "Epoch 56/100\n",
      "47/47 [==============================] - 0s 212us/step - loss: 1.0613\n",
      "Epoch 57/100\n",
      "47/47 [==============================] - 0s 212us/step - loss: 0.9769\n",
      "Epoch 58/100\n",
      "47/47 [==============================] - 0s 212us/step - loss: 0.8896\n",
      "Epoch 59/100\n",
      "47/47 [==============================] - 0s 191us/step - loss: 0.8277\n",
      "Epoch 60/100\n",
      "47/47 [==============================] - 0s 212us/step - loss: 0.7638\n",
      "Epoch 61/100\n",
      "47/47 [==============================] - 0s 191us/step - loss: 0.7094\n",
      "Epoch 62/100\n",
      "47/47 [==============================] - 0s 191us/step - loss: 0.6645\n",
      "Epoch 63/100\n",
      "47/47 [==============================] - 0s 233us/step - loss: 0.6193\n",
      "Epoch 64/100\n",
      "47/47 [==============================] - 0s 212us/step - loss: 0.5824\n",
      "Epoch 65/100\n",
      "47/47 [==============================] - 0s 191us/step - loss: 0.5445\n",
      "Epoch 66/100\n",
      "47/47 [==============================] - 0s 212us/step - loss: 0.5202\n",
      "Epoch 67/100\n",
      "47/47 [==============================] - 0s 212us/step - loss: 0.4843\n",
      "Epoch 68/100\n",
      "47/47 [==============================] - 0s 233us/step - loss: 0.4600\n",
      "Epoch 69/100\n",
      "47/47 [==============================] - 0s 233us/step - loss: 0.4334\n",
      "Epoch 70/100\n",
      "47/47 [==============================] - 0s 212us/step - loss: 0.4118\n",
      "Epoch 71/100\n",
      "47/47 [==============================] - 0s 212us/step - loss: 0.3891\n",
      "Epoch 72/100\n",
      "47/47 [==============================] - 0s 233us/step - loss: 0.3622\n",
      "Epoch 73/100\n",
      "47/47 [==============================] - 0s 212us/step - loss: 0.3411\n",
      "Epoch 74/100\n",
      "47/47 [==============================] - 0s 191us/step - loss: 0.3236\n",
      "Epoch 75/100\n",
      "47/47 [==============================] - 0s 212us/step - loss: 0.3077\n",
      "Epoch 76/100\n",
      "47/47 [==============================] - 0s 212us/step - loss: 0.2869\n",
      "Epoch 77/100\n",
      "47/47 [==============================] - 0s 170us/step - loss: 0.2710\n",
      "Epoch 78/100\n",
      "47/47 [==============================] - 0s 233us/step - loss: 0.2560\n",
      "Epoch 79/100\n",
      "47/47 [==============================] - 0s 212us/step - loss: 0.2397\n",
      "Epoch 80/100\n",
      "47/47 [==============================] - 0s 191us/step - loss: 0.2242\n",
      "Epoch 81/100\n",
      "47/47 [==============================] - 0s 212us/step - loss: 0.2111\n",
      "Epoch 82/100\n",
      "47/47 [==============================] - 0s 233us/step - loss: 0.2014\n",
      "Epoch 83/100\n",
      "47/47 [==============================] - 0s 191us/step - loss: 0.1883\n",
      "Epoch 84/100\n",
      "47/47 [==============================] - 0s 233us/step - loss: 0.1801\n",
      "Epoch 85/100\n",
      "47/47 [==============================] - 0s 233us/step - loss: 0.1715\n",
      "Epoch 86/100\n",
      "47/47 [==============================] - 0s 191us/step - loss: 0.1605\n",
      "Epoch 87/100\n",
      "47/47 [==============================] - 0s 255us/step - loss: 0.1514\n",
      "Epoch 88/100\n",
      "47/47 [==============================] - 0s 233us/step - loss: 0.1439\n",
      "Epoch 89/100\n",
      "47/47 [==============================] - 0s 212us/step - loss: 0.1355\n",
      "Epoch 90/100\n",
      "47/47 [==============================] - 0s 191us/step - loss: 0.1288\n",
      "Epoch 91/100\n",
      "47/47 [==============================] - 0s 212us/step - loss: 0.1225\n",
      "Epoch 92/100\n",
      "47/47 [==============================] - 0s 212us/step - loss: 0.1167\n",
      "Epoch 93/100\n",
      "47/47 [==============================] - 0s 212us/step - loss: 0.1101\n",
      "Epoch 94/100\n",
      "47/47 [==============================] - 0s 297us/step - loss: 0.1050\n",
      "Epoch 95/100\n",
      "47/47 [==============================] - 0s 212us/step - loss: 0.1004\n",
      "Epoch 96/100\n",
      "47/47 [==============================] - 0s 191us/step - loss: 0.0949\n",
      "Epoch 97/100\n",
      "47/47 [==============================] - 0s 212us/step - loss: 0.0902\n",
      "Epoch 98/100\n",
      "47/47 [==============================] - 0s 170us/step - loss: 0.0869\n",
      "Epoch 99/100\n"
     ]
    },
    {
     "name": "stdout",
     "output_type": "stream",
     "text": [
      "47/47 [==============================] - 0s 170us/step - loss: 0.0834\n",
      "Epoch 100/100\n",
      "47/47 [==============================] - 0s 170us/step - loss: 0.0794\n"
     ]
    },
    {
     "data": {
      "text/plain": [
       "<keras.callbacks.callbacks.History at 0x1b50cd41808>"
      ]
     },
     "execution_count": 7,
     "metadata": {},
     "output_type": "execute_result"
    }
   ],
   "source": [
    "rnn.compile(optimizer = 'adam', loss = 'mse')\n",
    "rnn.fit(trainX, trainY, epochs = 100, verbose = 1)"
   ]
  },
  {
   "cell_type": "code",
   "execution_count": 8,
   "metadata": {},
   "outputs": [
    {
     "data": {
      "text/plain": [
       "[51.02245,\n",
       " 51.02245,\n",
       " 51.02245,\n",
       " 53.702244,\n",
       " 53.910187,\n",
       " 54.59736,\n",
       " 56.56888,\n",
       " 57.047913,\n",
       " 58.06674,\n",
       " 59.653793,\n",
       " 60.386024,\n",
       " 61.571926,\n",
       " 62.98178,\n",
       " 63.931984,\n",
       " 65.222244,\n",
       " 66.58719,\n",
       " 67.72841,\n",
       " 69.11348,\n",
       " 70.5214,\n",
       " 71.84323,\n",
       " 73.341576,\n",
       " 74.85706,\n",
       " 76.3671,\n",
       " 78.01386,\n",
       " 79.693054,\n",
       " 81.41721,\n",
       " 83.260925,\n",
       " 85.16179,\n",
       " 87.14352,\n",
       " 89.245735]"
      ]
     },
     "execution_count": 8,
     "metadata": {},
     "output_type": "execute_result"
    }
   ],
   "source": [
    "start = np.array([sequence[len(sequence)-steps: len(sequence)]])\n",
    "tempip = list(start)\n",
    "op = []\n",
    "\n",
    "days = 30\n",
    "i = days\n",
    "\n",
    "while(i):\n",
    "    if(len(tempip) > steps):\n",
    "        start = np.array(tempip[1:])\n",
    "        start = start.reshape((1, steps,1 ))\n",
    "        pred = rnn.predict(start, verbose = 0)\n",
    "        tempip.append(pred[0][0])\n",
    "        tempip = tempip[1:]\n",
    "        op.append(pred[0][0])\n",
    "        \n",
    "    else:\n",
    "        start = start.reshape((1, steps, 1))\n",
    "        pred = rnn.predict(start, verbose = 0)\n",
    "        tempip.append(pred[0][0])\n",
    "        op.append(pred[0][0])\n",
    "    \n",
    "    i -= 1\n",
    "    \n",
    "op"
   ]
  },
  {
   "cell_type": "code",
   "execution_count": 9,
   "metadata": {},
   "outputs": [],
   "source": [
    "initial = np.arange(1, length+1)\n",
    "preds = np.arange(length, length+days)"
   ]
  },
  {
   "cell_type": "code",
   "execution_count": 10,
   "metadata": {},
   "outputs": [
    {
     "data": {
      "text/plain": [
       "[<matplotlib.lines.Line2D at 0x1b50f9dec08>]"
      ]
     },
     "execution_count": 10,
     "metadata": {},
     "output_type": "execute_result"
    },
    {
     "data": {
      "image/png": "[encoded data removed]",
      "text/plain": [
       "<Figure size 432x288 with 1 Axes>"
      ]
     },
     "metadata": {
      "needs_background": "light"
     },
     "output_type": "display_data"
    }
   ],
   "source": [
    "plt.plot(initial, sequence)\n",
    "plt.plot(preds, op)"
   ]
  },
  {
   "cell_type": "code",
   "execution_count": null,
   "metadata": {},
   "outputs": [],
   "source": []
  }
 ],
 "metadata": {
  "kernelspec": {
   "display_name": "Python 3",
   "language": "python",
   "name": "python3"
  },
  "language_info": {
   "codemirror_mode": {
    "name": "ipython",
    "version": 3
   },
   "file_extension": ".py",
   "mimetype": "text/x-python",
   "name": "python",
   "nbconvert_exporter": "python",
   "pygments_lexer": "ipython3",
   "version": "3.7.9"
  }
 },
 "nbformat": 4,
 "nbformat_minor": 4
}
