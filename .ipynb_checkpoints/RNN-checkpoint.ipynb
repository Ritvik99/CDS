{
 "cells": [
  {
   "cell_type": "code",
   "execution_count": 1,
   "metadata": {},
   "outputs": [
    {
     "name": "stderr",
     "output_type": "stream",
     "text": [
      "Using TensorFlow backend.\n"
     ]
    }
   ],
   "source": [
    "import numpy as np\n",
    "from keras.models import Sequential\n",
    "from keras.layers import SimpleRNN, LSTM, Dense, Flatten"
   ]
  },
  {
   "cell_type": "code",
   "execution_count": 2,
   "metadata": {},
   "outputs": [],
   "source": [
    "def trainingDataExtractor(sequence, steps):\n",
    "    \n",
    "    x = []\n",
    "    y = []\n",
    "    \n",
    "    for i in range(len(sequence)):\n",
    "        if(i+steps) > len(sequence)-1:\n",
    "            break\n",
    "        \n",
    "        y.append(sequence[i+steps])\n",
    "        x.append(sequence[i:i+steps])\n",
    "        \n",
    "    return np.array(x), np.array(y)"
   ]
  },
  {
   "cell_type": "code",
   "execution_count": 3,
   "metadata": {},
   "outputs": [],
   "source": [
    "sequence = []\n",
    "length = 50\n",
    "\n",
    "for i in range(length):\n",
    "    sequence.append(pow(i+1,2))"
   ]
  },
  {
   "cell_type": "code",
   "execution_count": 4,
   "metadata": {},
   "outputs": [
    {
     "data": {
      "text/plain": [
       "(array([[   1,    4,    9],\n",
       "        [   4,    9,   16],\n",
       "        [   9,   16,   25],\n",
       "        [  16,   25,   36],\n",
       "        [  25,   36,   49],\n",
       "        [  36,   49,   64],\n",
       "        [  49,   64,   81],\n",
       "        [  64,   81,  100],\n",
       "        [  81,  100,  121],\n",
       "        [ 100,  121,  144],\n",
       "        [ 121,  144,  169],\n",
       "        [ 144,  169,  196],\n",
       "        [ 169,  196,  225],\n",
       "        [ 196,  225,  256],\n",
       "        [ 225,  256,  289],\n",
       "        [ 256,  289,  324],\n",
       "        [ 289,  324,  361],\n",
       "        [ 324,  361,  400],\n",
       "        [ 361,  400,  441],\n",
       "        [ 400,  441,  484],\n",
       "        [ 441,  484,  529],\n",
       "        [ 484,  529,  576],\n",
       "        [ 529,  576,  625],\n",
       "        [ 576,  625,  676],\n",
       "        [ 625,  676,  729],\n",
       "        [ 676,  729,  784],\n",
       "        [ 729,  784,  841],\n",
       "        [ 784,  841,  900],\n",
       "        [ 841,  900,  961],\n",
       "        [ 900,  961, 1024],\n",
       "        [ 961, 1024, 1089],\n",
       "        [1024, 1089, 1156],\n",
       "        [1089, 1156, 1225],\n",
       "        [1156, 1225, 1296],\n",
       "        [1225, 1296, 1369],\n",
       "        [1296, 1369, 1444],\n",
       "        [1369, 1444, 1521],\n",
       "        [1444, 1521, 1600],\n",
       "        [1521, 1600, 1681],\n",
       "        [1600, 1681, 1764],\n",
       "        [1681, 1764, 1849],\n",
       "        [1764, 1849, 1936],\n",
       "        [1849, 1936, 2025],\n",
       "        [1936, 2025, 2116],\n",
       "        [2025, 2116, 2209],\n",
       "        [2116, 2209, 2304],\n",
       "        [2209, 2304, 2401]]),\n",
       " array([  16,   25,   36,   49,   64,   81,  100,  121,  144,  169,  196,\n",
       "         225,  256,  289,  324,  361,  400,  441,  484,  529,  576,  625,\n",
       "         676,  729,  784,  841,  900,  961, 1024, 1089, 1156, 1225, 1296,\n",
       "        1369, 1444, 1521, 1600, 1681, 1764, 1849, 1936, 2025, 2116, 2209,\n",
       "        2304, 2401, 2500]))"
      ]
     },
     "execution_count": 4,
     "metadata": {},
     "output_type": "execute_result"
    }
   ],
   "source": [
    "steps = 3\n",
    "\n",
    "trainX, trainY = trainingDataExtractor(sequence, steps)\n",
    "trainX, trainY"
   ]
  },
  {
   "cell_type": "code",
   "execution_count": 5,
   "metadata": {},
   "outputs": [],
   "source": [
    "trainX = trainX.reshape(trainX.shape[0], trainX.shape[1], 1)"
   ]
  },
  {
   "cell_type": "code",
   "execution_count": 6,
   "metadata": {},
   "outputs": [
    {
     "name": "stdout",
     "output_type": "stream",
     "text": [
      "Model: \"sequential_1\"\n",
      "_________________________________________________________________\n",
      "Layer (type)                 Output Shape              Param #   \n",
      "=================================================================\n",
      "simple_rnn_1 (SimpleRNN)     (None, 3, 100)            10200     \n",
      "_________________________________________________________________\n",
      "simple_rnn_2 (SimpleRNN)     (None, 100)               20100     \n",
      "_________________________________________________________________\n",
      "dense_1 (Dense)              (None, 1)                 101       \n",
      "=================================================================\n",
      "Total params: 30,401\n",
      "Trainable params: 30,401\n",
      "Non-trainable params: 0\n",
      "_________________________________________________________________\n"
     ]
    }
   ],
   "source": [
    "rnn = Sequential()\n",
    "rnn.add(SimpleRNN(100, activation = 'relu', return_sequences = True, input_shape = (steps, 1)))\n",
    "rnn.add(SimpleRNN(100, activation = 'relu'))\n",
    "rnn.add(Dense(1))\n",
    "\n",
    "rnn.summary()"
   ]
  },
  {
   "cell_type": "code",
   "execution_count": 7,
   "metadata": {},
   "outputs": [],
   "source": [
    "rnn.compile(optimizer = 'adam', loss = 'mse')"
   ]
  },
  {
   "cell_type": "code",
   "execution_count": 8,
   "metadata": {},
   "outputs": [
    {
     "name": "stdout",
     "output_type": "stream",
     "text": [
      "Epoch 1/100\n",
      "47/47 [==============================] - 0s 6ms/step - loss: 1522194.6543\n",
      "Epoch 2/100\n",
      "47/47 [==============================] - 0s 170us/step - loss: 995966.3657\n",
      "Epoch 3/100\n",
      "47/47 [==============================] - 0s 148us/step - loss: 567973.4461\n",
      "Epoch 4/100\n",
      "47/47 [==============================] - 0s 149us/step - loss: 241610.9139\n",
      "Epoch 5/100\n",
      "47/47 [==============================] - 0s 191us/step - loss: 71382.0753\n",
      "Epoch 6/100\n",
      "47/47 [==============================] - 0s 127us/step - loss: 3389.8260\n",
      "Epoch 7/100\n",
      "47/47 [==============================] - 0s 170us/step - loss: 41930.0631\n",
      "Epoch 8/100\n",
      "47/47 [==============================] - 0s 191us/step - loss: 101316.1243\n",
      "Epoch 9/100\n",
      "47/47 [==============================] - 0s 149us/step - loss: 95558.8768\n",
      "Epoch 10/100\n",
      "47/47 [==============================] - 0s 254us/step - loss: 49825.8216\n",
      "Epoch 11/100\n",
      "47/47 [==============================] - 0s 191us/step - loss: 12525.1486\n",
      "Epoch 12/100\n",
      "47/47 [==============================] - 0s 127us/step - loss: 1895.8354\n",
      "Epoch 13/100\n",
      "47/47 [==============================] - 0s 212us/step - loss: 12281.0978\n",
      "Epoch 14/100\n",
      "47/47 [==============================] - 0s 106us/step - loss: 22559.0314\n",
      "Epoch 15/100\n",
      "47/47 [==============================] - 0s 170us/step - loss: 25188.5859\n",
      "Epoch 16/100\n",
      "47/47 [==============================] - 0s 191us/step - loss: 19758.3108\n",
      "Epoch 17/100\n",
      "47/47 [==============================] - 0s 213us/step - loss: 10219.0441\n",
      "Epoch 18/100\n",
      "47/47 [==============================] - 0s 170us/step - loss: 3392.1716\n",
      "Epoch 19/100\n",
      "47/47 [==============================] - 0s 254us/step - loss: 1577.1470\n",
      "Epoch 20/100\n",
      "47/47 [==============================] - 0s 233us/step - loss: 3596.1195\n",
      "Epoch 21/100\n",
      "47/47 [==============================] - 0s 127us/step - loss: 6583.4323\n",
      "Epoch 22/100\n",
      "47/47 [==============================] - 0s 191us/step - loss: 6541.4035\n",
      "Epoch 23/100\n",
      "47/47 [==============================] - 0s 191us/step - loss: 4125.6285\n",
      "Epoch 24/100\n",
      "47/47 [==============================] - 0s 148us/step - loss: 1758.6516\n",
      "Epoch 25/100\n",
      "47/47 [==============================] - 0s 191us/step - loss: 1111.0708\n",
      "Epoch 26/100\n",
      "47/47 [==============================] - 0s 127us/step - loss: 1898.2736\n",
      "Epoch 27/100\n",
      "47/47 [==============================] - 0s 170us/step - loss: 2784.9212\n",
      "Epoch 28/100\n",
      "47/47 [==============================] - 0s 233us/step - loss: 2944.7449\n",
      "Epoch 29/100\n",
      "47/47 [==============================] - 0s 106us/step - loss: 2331.8162\n",
      "Epoch 30/100\n",
      "47/47 [==============================] - 0s 233us/step - loss: 1555.6073\n",
      "Epoch 31/100\n",
      "47/47 [==============================] - 0s 255us/step - loss: 1166.0184\n",
      "Epoch 32/100\n",
      "47/47 [==============================] - 0s 127us/step - loss: 1331.2743\n",
      "Epoch 33/100\n",
      "47/47 [==============================] - 0s 170us/step - loss: 1557.2782\n",
      "Epoch 34/100\n",
      "47/47 [==============================] - 0s 233us/step - loss: 1651.7831\n",
      "Epoch 35/100\n",
      "47/47 [==============================] - 0s 127us/step - loss: 1515.1235\n",
      "Epoch 36/100\n",
      "47/47 [==============================] - 0s 170us/step - loss: 1237.6496\n",
      "Epoch 37/100\n",
      "47/47 [==============================] - 0s 233us/step - loss: 1144.7578\n",
      "Epoch 38/100\n",
      "47/47 [==============================] - 0s 127us/step - loss: 1182.2875\n",
      "Epoch 39/100\n",
      "47/47 [==============================] - 0s 170us/step - loss: 1308.3020\n",
      "Epoch 40/100\n",
      "47/47 [==============================] - 0s 170us/step - loss: 1359.3209\n",
      "Epoch 41/100\n",
      "47/47 [==============================] - 0s 149us/step - loss: 1280.0256\n",
      "Epoch 42/100\n",
      "47/47 [==============================] - 0s 233us/step - loss: 1198.3655\n",
      "Epoch 43/100\n",
      "47/47 [==============================] - 0s 127us/step - loss: 1152.7690\n",
      "Epoch 44/100\n",
      "47/47 [==============================] - 0s 191us/step - loss: 1186.3880\n",
      "Epoch 45/100\n",
      "47/47 [==============================] - 0s 170us/step - loss: 1204.0843\n",
      "Epoch 46/100\n",
      "47/47 [==============================] - 0s 149us/step - loss: 1189.3609\n",
      "Epoch 47/100\n",
      "47/47 [==============================] - 0s 191us/step - loss: 1142.6181\n",
      "Epoch 48/100\n",
      "47/47 [==============================] - 0s 127us/step - loss: 1130.1905\n",
      "Epoch 49/100\n",
      "47/47 [==============================] - 0s 212us/step - loss: 1154.7932\n",
      "Epoch 50/100\n",
      "47/47 [==============================] - 0s 106us/step - loss: 1181.2130\n",
      "Epoch 51/100\n",
      "47/47 [==============================] - 0s 191us/step - loss: 1181.2466\n",
      "Epoch 52/100\n",
      "47/47 [==============================] - 0s 212us/step - loss: 1155.6659\n",
      "Epoch 53/100\n",
      "47/47 [==============================] - 0s 127us/step - loss: 1141.2713\n",
      "Epoch 54/100\n",
      "47/47 [==============================] - 0s 212us/step - loss: 1135.5989\n",
      "Epoch 55/100\n",
      "47/47 [==============================] - 0s 192us/step - loss: 1144.5202\n",
      "Epoch 56/100\n",
      "47/47 [==============================] - 0s 149us/step - loss: 1151.3098\n",
      "Epoch 57/100\n",
      "47/47 [==============================] - 0s 212us/step - loss: 1137.7620\n",
      "Epoch 58/100\n",
      "47/47 [==============================] - 0s 127us/step - loss: 1122.8123\n",
      "Epoch 59/100\n",
      "47/47 [==============================] - 0s 170us/step - loss: 1140.1131\n",
      "Epoch 60/100\n",
      "47/47 [==============================] - 0s 106us/step - loss: 1144.9130\n",
      "Epoch 61/100\n",
      "47/47 [==============================] - 0s 149us/step - loss: 1140.6821\n",
      "Epoch 62/100\n",
      "47/47 [==============================] - 0s 127us/step - loss: 1128.0465\n",
      "Epoch 63/100\n",
      "47/47 [==============================] - 0s 127us/step - loss: 1135.2736\n",
      "Epoch 64/100\n",
      "47/47 [==============================] - 0s 127us/step - loss: 1127.6247\n",
      "Epoch 65/100\n",
      "47/47 [==============================] - 0s 127us/step - loss: 1122.4733\n",
      "Epoch 66/100\n",
      "47/47 [==============================] - 0s 127us/step - loss: 1121.1325\n",
      "Epoch 67/100\n",
      "47/47 [==============================] - 0s 106us/step - loss: 1119.0631\n",
      "Epoch 68/100\n",
      "47/47 [==============================] - 0s 127us/step - loss: 1130.0498\n",
      "Epoch 69/100\n",
      "47/47 [==============================] - 0s 106us/step - loss: 1144.6594\n",
      "Epoch 70/100\n",
      "47/47 [==============================] - 0s 127us/step - loss: 1138.3598\n",
      "Epoch 71/100\n",
      "47/47 [==============================] - 0s 127us/step - loss: 1112.5708\n",
      "Epoch 72/100\n",
      "47/47 [==============================] - 0s 106us/step - loss: 1112.7693\n",
      "Epoch 73/100\n",
      "47/47 [==============================] - 0s 127us/step - loss: 1119.4101\n",
      "Epoch 74/100\n",
      "47/47 [==============================] - 0s 106us/step - loss: 1123.3069\n",
      "Epoch 75/100\n",
      "47/47 [==============================] - 0s 127us/step - loss: 1117.5303\n",
      "Epoch 76/100\n",
      "47/47 [==============================] - 0s 127us/step - loss: 1111.5814\n",
      "Epoch 77/100\n",
      "47/47 [==============================] - 0s 106us/step - loss: 1111.1809\n",
      "Epoch 78/100\n",
      "47/47 [==============================] - 0s 127us/step - loss: 1112.2075\n",
      "Epoch 79/100\n",
      "47/47 [==============================] - 0s 127us/step - loss: 1109.5258\n",
      "Epoch 80/100\n",
      "47/47 [==============================] - 0s 106us/step - loss: 1108.1636\n",
      "Epoch 81/100\n",
      "47/47 [==============================] - 0s 106us/step - loss: 1103.0953\n",
      "Epoch 82/100\n",
      "47/47 [==============================] - 0s 106us/step - loss: 1102.5882\n",
      "Epoch 83/100\n",
      "47/47 [==============================] - 0s 127us/step - loss: 1104.1516\n",
      "Epoch 84/100\n",
      "47/47 [==============================] - 0s 127us/step - loss: 1100.9216\n",
      "Epoch 85/100\n",
      "47/47 [==============================] - 0s 106us/step - loss: 1101.3100\n",
      "Epoch 86/100\n",
      "47/47 [==============================] - 0s 127us/step - loss: 1102.6952\n",
      "Epoch 87/100\n",
      "47/47 [==============================] - 0s 106us/step - loss: 1097.9139\n",
      "Epoch 88/100\n",
      "47/47 [==============================] - 0s 127us/step - loss: 1093.1507\n",
      "Epoch 89/100\n",
      "47/47 [==============================] - 0s 127us/step - loss: 1103.7246\n",
      "Epoch 90/100\n",
      "47/47 [==============================] - ETA: 0s - loss: 1161.63 - 0s 127us/step - loss: 1119.4269\n",
      "Epoch 91/100\n",
      "47/47 [==============================] - 0s 149us/step - loss: 1108.7326\n",
      "Epoch 92/100\n",
      "47/47 [==============================] - 0s 106us/step - loss: 1088.5696\n",
      "Epoch 93/100\n",
      "47/47 [==============================] - 0s 127us/step - loss: 1107.3915\n",
      "Epoch 94/100\n",
      "47/47 [==============================] - 0s 106us/step - loss: 1099.0014\n",
      "Epoch 95/100\n"
     ]
    },
    {
     "name": "stdout",
     "output_type": "stream",
     "text": [
      "47/47 [==============================] - 0s 149us/step - loss: 1100.1914\n",
      "Epoch 96/100\n",
      "47/47 [==============================] - 0s 127us/step - loss: 1086.1051\n",
      "Epoch 97/100\n",
      "47/47 [==============================] - 0s 106us/step - loss: 1085.5699\n",
      "Epoch 98/100\n",
      "47/47 [==============================] - 0s 127us/step - loss: 1084.5208\n",
      "Epoch 99/100\n",
      "47/47 [==============================] - 0s 106us/step - loss: 1082.4267\n",
      "Epoch 100/100\n",
      "47/47 [==============================] - 0s 127us/step - loss: 1082.3593\n"
     ]
    },
    {
     "data": {
      "text/plain": [
       "<keras.callbacks.callbacks.History at 0x267941d4608>"
      ]
     },
     "execution_count": 8,
     "metadata": {},
     "output_type": "execute_result"
    }
   ],
   "source": [
    "rnn.fit(trainX, trainY, epochs = 100, verbose = 1)"
   ]
  },
  {
   "cell_type": "markdown",
   "metadata": {},
   "source": [
    "### Prediction"
   ]
  },
  {
   "cell_type": "code",
   "execution_count": 9,
   "metadata": {},
   "outputs": [
    {
     "data": {
      "text/plain": [
       "[2656.9297,\n",
       " 2656.9297,\n",
       " 2656.9297,\n",
       " 2963.5632,\n",
       " 3057.6025,\n",
       " 3173.1155,\n",
       " 3395.4597,\n",
       " 3546.2773,\n",
       " 3716.0981,\n",
       " 3927.4014]"
      ]
     },
     "execution_count": 9,
     "metadata": {},
     "output_type": "execute_result"
    }
   ],
   "source": [
    "start = np.array([sequence[len(sequence)-steps: len(sequence)]])\n",
    "tempip = list(start)\n",
    "op = []\n",
    "\n",
    "days = 10\n",
    "i = days\n",
    "\n",
    "while(i):\n",
    "    if(len(tempip) > steps):\n",
    "        start = np.array(tempip[1:])\n",
    "        start = start.reshape((1, steps,1 ))\n",
    "        pred = rnn.predict(start, verbose = 0)\n",
    "        tempip.append(pred[0][0])\n",
    "        tempip = tempip[1:]\n",
    "        op.append(pred[0][0])\n",
    "        \n",
    "    else:\n",
    "        start = start.reshape((1, steps, 1))\n",
    "        pred = rnn.predict(start, verbose = 0)\n",
    "        tempip.append(pred[0][0])\n",
    "        op.append(pred[0][0])\n",
    "    \n",
    "    i -= 1\n",
    "    \n",
    "op"
   ]
  },
  {
   "cell_type": "code",
   "execution_count": 10,
   "metadata": {},
   "outputs": [],
   "source": [
    "import matplotlib.pyplot as plt"
   ]
  },
  {
   "cell_type": "code",
   "execution_count": 11,
   "metadata": {},
   "outputs": [],
   "source": [
    "initial = np.arange(1,length+1)\n",
    "preds = np.arange(length, length+days)"
   ]
  },
  {
   "cell_type": "code",
   "execution_count": 12,
   "metadata": {},
   "outputs": [
    {
     "data": {
      "text/plain": [
       "[<matplotlib.lines.Line2D at 0x26795dbbe88>]"
      ]
     },
     "execution_count": 12,
     "metadata": {},
     "output_type": "execute_result"
    },
    {
     "data": {
      "image/png": "[encoded data removed]",
      "text/plain": [
       "<Figure size 432x288 with 1 Axes>"
      ]
     },
     "metadata": {
      "needs_background": "light"
     },
     "output_type": "display_data"
    }
   ],
   "source": [
    "plt.plot(initial, sequence)\n",
    "plt.plot(preds, op)"
   ]
  },
  {
   "cell_type": "code",
   "execution_count": null,
   "metadata": {},
   "outputs": [],
   "source": []
  }
 ],
 "metadata": {
  "kernelspec": {
   "display_name": "Python 3",
   "language": "python",
   "name": "python3"
  },
  "language_info": {
   "codemirror_mode": {
    "name": "ipython",
    "version": 3
   },
   "file_extension": ".py",
   "mimetype": "text/x-python",
   "name": "python",
   "nbconvert_exporter": "python",
   "pygments_lexer": "ipython3",
   "version": "3.7.9"
  }
 },
 "nbformat": 4,
 "nbformat_minor": 4
}
