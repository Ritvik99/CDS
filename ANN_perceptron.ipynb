{
 "cells": [
  {
   "cell_type": "markdown",
   "metadata": {},
   "source": [
    "### Implementing Logic AND"
   ]
  },
  {
   "cell_type": "code",
   "execution_count": 1,
   "metadata": {},
   "outputs": [],
   "source": [
    "import numpy as np\n",
    "import random"
   ]
  },
  {
   "cell_type": "code",
   "execution_count": 2,
   "metadata": {},
   "outputs": [],
   "source": [
    "learning_rate = 1\n",
    "bias = 1\n",
    "\n",
    "#3 input values and 1 bias value's weights\n",
    "wts = [random.random(), random.random(), random.random(), random.random()]"
   ]
  },
  {
   "cell_type": "code",
   "execution_count": 3,
   "metadata": {},
   "outputs": [],
   "source": [
    "def propagate(ip, op):\n",
    "    \n",
    "    opn = 0\n",
    "    \n",
    "    for i in range(len(ip)):\n",
    "        opn += ip[i] * wts[i]\n",
    "    \n",
    "    opn += bias*wts[len(ip)]\n",
    "    opn = 1/(1+np.exp(-opn))\n",
    "    \n",
    "    if opn >= 0.5:\n",
    "        opn = 1\n",
    "    else:\n",
    "        opn = 0\n",
    "    \n",
    "    err = op - opn\n",
    "    \n",
    "    for i in range(len(ip)):\n",
    "        wts[i] += err*ip[i]*learning_rate\n",
    "        \n",
    "    wts[len(ip)] += err*bias*learning_rate"
   ]
  },
  {
   "cell_type": "code",
   "execution_count": 4,
   "metadata": {},
   "outputs": [],
   "source": [
    "for i in range(40):\n",
    "    propagate([0,0,0], 0)\n",
    "    propagate([1,0,0], 0)\n",
    "    propagate([0,1,0], 0)\n",
    "    propagate([1,1,0], 0)\n",
    "    propagate([0,0,1], 0)\n",
    "    propagate([1,0,1], 0)\n",
    "    propagate([0,1,1], 0)\n",
    "    propagate([1,1,1], 1)"
   ]
  },
  {
   "cell_type": "code",
   "execution_count": 5,
   "metadata": {},
   "outputs": [
    {
     "name": "stdout",
     "output_type": "stream",
     "text": [
      "enter number: 1\n",
      "enter number: 0\n",
      "enter number: 1\n",
      "the output is:  0\n"
     ]
    }
   ],
   "source": [
    "ip = []\n",
    "\n",
    "for i in range(3):\n",
    "    temp = int(input('enter number: '))\n",
    "    ip.append(temp)\n",
    "    \n",
    "opn = bias*wts[len(ip)]\n",
    "\n",
    "for i in range(3):\n",
    "    opn += ip[i]*wts[i]\n",
    "\n",
    "opn = 1/(1+np.exp(-opn))\n",
    "\n",
    "if opn < 0.5:\n",
    "    print('the output is: ', 0)\n",
    "else:\n",
    "    print('the output is: ', 1)"
   ]
  }
 ],
 "metadata": {
  "kernelspec": {
   "display_name": "Python 3",
   "language": "python",
   "name": "python3"
  },
  "language_info": {
   "codemirror_mode": {
    "name": "ipython",
    "version": 3
   },
   "file_extension": ".py",
   "mimetype": "text/x-python",
   "name": "python",
   "nbconvert_exporter": "python",
   "pygments_lexer": "ipython3",
   "version": "3.7.9"
  }
 },
 "nbformat": 4,
 "nbformat_minor": 4
}
